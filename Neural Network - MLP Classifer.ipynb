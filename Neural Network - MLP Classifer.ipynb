{
 "cells": [
  {
   "cell_type": "code",
   "execution_count": 1,
   "id": "b7a7fd8d",
   "metadata": {},
   "outputs": [],
   "source": [
    "import pandas as pd\n",
    "import numpy as np\n",
    "import sklearn \n",
    "from sklearn.model_selection import train_test_split\n",
    "from sklearn.model_selection import cross_val_score\n",
    "from sklearn.preprocessing import StandardScaler\n",
    "from sklearn.pipeline import make_pipeline\n",
    "from sklearn.model_selection import GridSearchCV\n",
    "from sklearn.model_selection import cross_validate\n",
    "from sklearn.impute import SimpleImputer\n",
    "from sklearn.preprocessing import OneHotEncoder\n",
    "from scipy import sparse\n",
    "from sklearn.compose import make_column_transformer\n",
    "from sklearn.compose import make_column_transformer\n",
    "from sklearn.model_selection import GridSearchCV\n",
    "from sklearn.neural_network import MLPClassifier \n",
    "import matplotlib.pyplot as plt\n",
    "%matplotlib inline\n",
    "from sklearn.metrics import confusion_matrix"
   ]
  },
  {
   "cell_type": "code",
   "execution_count": 2,
   "id": "b89002b3",
   "metadata": {},
   "outputs": [],
   "source": [
    "pd.set_option(\"display.max_columns\", None)"
   ]
  },
  {
   "cell_type": "markdown",
   "id": "85543954",
   "metadata": {},
   "source": [
    "## 1. Load the Lending Club dataset"
   ]
  },
  {
   "cell_type": "code",
   "execution_count": 3,
   "id": "9df6e166",
   "metadata": {
    "scrolled": true
   },
   "outputs": [
    {
     "name": "stderr",
     "output_type": "stream",
     "text": [
      "/Users/pengshuang/opt/anaconda3/lib/python3.8/site-packages/IPython/core/interactiveshell.py:3165: DtypeWarning: Columns (19,47) have mixed types.Specify dtype option on import or set low_memory=False.\n",
      "  has_raised = await self.run_ast_nodes(code_ast.body, cell_name,\n"
     ]
    }
   ],
   "source": [
    "#load the dataset\n",
    "loans = pd.read_csv('lending-club-data.csv',index_col=0) "
   ]
  },
  {
   "cell_type": "code",
   "execution_count": 4,
   "id": "fdea6d95",
   "metadata": {
    "scrolled": true
   },
   "outputs": [
    {
     "data": {
      "text/plain": [
       "482746"
      ]
     },
     "execution_count": 4,
     "metadata": {},
     "output_type": "execute_result"
    }
   ],
   "source": [
    "loans.isna().sum().sum()"
   ]
  },
  {
   "cell_type": "code",
   "execution_count": 5,
   "id": "e1f27066",
   "metadata": {
    "scrolled": true
   },
   "outputs": [
    {
     "data": {
      "text/plain": [
       "(122607, 67)"
      ]
     },
     "execution_count": 5,
     "metadata": {},
     "output_type": "execute_result"
    }
   ],
   "source": [
    "loans.shape"
   ]
  },
  {
   "cell_type": "code",
   "execution_count": 6,
   "id": "29bf27ee",
   "metadata": {},
   "outputs": [
    {
     "data": {
      "text/html": [
       "<div>\n",
       "<style scoped>\n",
       "    .dataframe tbody tr th:only-of-type {\n",
       "        vertical-align: middle;\n",
       "    }\n",
       "\n",
       "    .dataframe tbody tr th {\n",
       "        vertical-align: top;\n",
       "    }\n",
       "\n",
       "    .dataframe thead th {\n",
       "        text-align: right;\n",
       "    }\n",
       "</style>\n",
       "<table border=\"1\" class=\"dataframe\">\n",
       "  <thead>\n",
       "    <tr style=\"text-align: right;\">\n",
       "      <th></th>\n",
       "      <th>member_id</th>\n",
       "      <th>loan_amnt</th>\n",
       "      <th>funded_amnt</th>\n",
       "      <th>funded_amnt_inv</th>\n",
       "      <th>int_rate</th>\n",
       "      <th>installment</th>\n",
       "      <th>annual_inc</th>\n",
       "      <th>dti</th>\n",
       "      <th>delinq_2yrs</th>\n",
       "      <th>inq_last_6mths</th>\n",
       "      <th>mths_since_last_delinq</th>\n",
       "      <th>mths_since_last_record</th>\n",
       "      <th>open_acc</th>\n",
       "      <th>pub_rec</th>\n",
       "      <th>revol_bal</th>\n",
       "      <th>revol_util</th>\n",
       "      <th>total_acc</th>\n",
       "      <th>out_prncp</th>\n",
       "      <th>out_prncp_inv</th>\n",
       "      <th>total_pymnt</th>\n",
       "      <th>total_pymnt_inv</th>\n",
       "      <th>total_rec_prncp</th>\n",
       "      <th>total_rec_int</th>\n",
       "      <th>total_rec_late_fee</th>\n",
       "      <th>recoveries</th>\n",
       "      <th>collection_recovery_fee</th>\n",
       "      <th>last_pymnt_amnt</th>\n",
       "      <th>collections_12_mths_ex_med</th>\n",
       "      <th>mths_since_last_major_derog</th>\n",
       "      <th>policy_code</th>\n",
       "      <th>not_compliant</th>\n",
       "      <th>inactive_loans</th>\n",
       "      <th>bad_loans</th>\n",
       "      <th>emp_length_num</th>\n",
       "      <th>grade_num</th>\n",
       "      <th>sub_grade_num</th>\n",
       "      <th>delinq_2yrs_zero</th>\n",
       "      <th>pub_rec_zero</th>\n",
       "      <th>collections_12_mths_zero</th>\n",
       "      <th>short_emp</th>\n",
       "      <th>payment_inc_ratio</th>\n",
       "      <th>last_delinq_none</th>\n",
       "      <th>last_record_none</th>\n",
       "      <th>last_major_derog_none</th>\n",
       "    </tr>\n",
       "  </thead>\n",
       "  <tbody>\n",
       "    <tr>\n",
       "      <th>count</th>\n",
       "      <td>1.226070e+05</td>\n",
       "      <td>122607.000000</td>\n",
       "      <td>122607.000000</td>\n",
       "      <td>122607.000000</td>\n",
       "      <td>122607.000000</td>\n",
       "      <td>122607.000000</td>\n",
       "      <td>1.226030e+05</td>\n",
       "      <td>122607.000000</td>\n",
       "      <td>122578.000000</td>\n",
       "      <td>122578.000000</td>\n",
       "      <td>50500.000000</td>\n",
       "      <td>12531.000000</td>\n",
       "      <td>122578.000000</td>\n",
       "      <td>122578.000000</td>\n",
       "      <td>1.226070e+05</td>\n",
       "      <td>122607.000000</td>\n",
       "      <td>122578.000000</td>\n",
       "      <td>122607.000000</td>\n",
       "      <td>122607.000000</td>\n",
       "      <td>122607.000000</td>\n",
       "      <td>122607.000000</td>\n",
       "      <td>122607.000000</td>\n",
       "      <td>122607.000000</td>\n",
       "      <td>122607.000000</td>\n",
       "      <td>122607.000000</td>\n",
       "      <td>122607.000000</td>\n",
       "      <td>122607.000000</td>\n",
       "      <td>122462.000000</td>\n",
       "      <td>15460.000000</td>\n",
       "      <td>122607.0</td>\n",
       "      <td>122607.000000</td>\n",
       "      <td>122607.0</td>\n",
       "      <td>122607.000000</td>\n",
       "      <td>122607.000000</td>\n",
       "      <td>122607.000000</td>\n",
       "      <td>122607.000000</td>\n",
       "      <td>122578.000000</td>\n",
       "      <td>122578.000000</td>\n",
       "      <td>122462.000000</td>\n",
       "      <td>122607.000000</td>\n",
       "      <td>122603.000000</td>\n",
       "      <td>122607.000000</td>\n",
       "      <td>122607.000000</td>\n",
       "      <td>122607.000000</td>\n",
       "    </tr>\n",
       "    <tr>\n",
       "      <th>mean</th>\n",
       "      <td>5.493222e+06</td>\n",
       "      <td>12809.733743</td>\n",
       "      <td>12736.123753</td>\n",
       "      <td>12497.828395</td>\n",
       "      <td>13.639487</td>\n",
       "      <td>396.623285</td>\n",
       "      <td>7.138502e+04</td>\n",
       "      <td>15.496888</td>\n",
       "      <td>0.211996</td>\n",
       "      <td>0.980861</td>\n",
       "      <td>35.258198</td>\n",
       "      <td>73.964488</td>\n",
       "      <td>10.457749</td>\n",
       "      <td>0.103477</td>\n",
       "      <td>1.483507e+04</td>\n",
       "      <td>53.716307</td>\n",
       "      <td>24.248169</td>\n",
       "      <td>22.028899</td>\n",
       "      <td>22.015354</td>\n",
       "      <td>12510.211529</td>\n",
       "      <td>12269.338465</td>\n",
       "      <td>10707.864970</td>\n",
       "      <td>1696.232305</td>\n",
       "      <td>0.742344</td>\n",
       "      <td>105.371929</td>\n",
       "      <td>4.957537</td>\n",
       "      <td>6156.808616</td>\n",
       "      <td>0.003495</td>\n",
       "      <td>42.428913</td>\n",
       "      <td>1.0</td>\n",
       "      <td>0.021761</td>\n",
       "      <td>1.0</td>\n",
       "      <td>0.188815</td>\n",
       "      <td>6.370256</td>\n",
       "      <td>4.232882</td>\n",
       "      <td>0.597509</td>\n",
       "      <td>0.858107</td>\n",
       "      <td>0.908173</td>\n",
       "      <td>0.996734</td>\n",
       "      <td>0.123672</td>\n",
       "      <td>7.564725</td>\n",
       "      <td>0.588115</td>\n",
       "      <td>0.897795</td>\n",
       "      <td>0.873906</td>\n",
       "    </tr>\n",
       "    <tr>\n",
       "      <th>std</th>\n",
       "      <td>6.604693e+06</td>\n",
       "      <td>7932.313398</td>\n",
       "      <td>7887.167118</td>\n",
       "      <td>7946.731527</td>\n",
       "      <td>4.390836</td>\n",
       "      <td>239.475936</td>\n",
       "      <td>5.841483e+04</td>\n",
       "      <td>7.497442</td>\n",
       "      <td>0.662052</td>\n",
       "      <td>1.263588</td>\n",
       "      <td>21.950074</td>\n",
       "      <td>35.855540</td>\n",
       "      <td>4.713957</td>\n",
       "      <td>0.359382</td>\n",
       "      <td>1.937773e+04</td>\n",
       "      <td>25.723881</td>\n",
       "      <td>11.629814</td>\n",
       "      <td>611.510973</td>\n",
       "      <td>611.116057</td>\n",
       "      <td>9046.331429</td>\n",
       "      <td>9061.593794</td>\n",
       "      <td>8041.776401</td>\n",
       "      <td>1793.448627</td>\n",
       "      <td>5.363268</td>\n",
       "      <td>575.651981</td>\n",
       "      <td>94.427007</td>\n",
       "      <td>7155.007894</td>\n",
       "      <td>0.063674</td>\n",
       "      <td>21.457282</td>\n",
       "      <td>0.0</td>\n",
       "      <td>0.145901</td>\n",
       "      <td>0.0</td>\n",
       "      <td>0.391363</td>\n",
       "      <td>3.736014</td>\n",
       "      <td>1.362138</td>\n",
       "      <td>0.278934</td>\n",
       "      <td>0.348942</td>\n",
       "      <td>0.288783</td>\n",
       "      <td>0.057059</td>\n",
       "      <td>0.329208</td>\n",
       "      <td>4.127291</td>\n",
       "      <td>0.492177</td>\n",
       "      <td>0.302918</td>\n",
       "      <td>0.331957</td>\n",
       "    </tr>\n",
       "    <tr>\n",
       "      <th>min</th>\n",
       "      <td>7.047300e+04</td>\n",
       "      <td>500.000000</td>\n",
       "      <td>500.000000</td>\n",
       "      <td>0.000000</td>\n",
       "      <td>5.420000</td>\n",
       "      <td>15.670000</td>\n",
       "      <td>1.896000e+03</td>\n",
       "      <td>0.000000</td>\n",
       "      <td>0.000000</td>\n",
       "      <td>0.000000</td>\n",
       "      <td>0.000000</td>\n",
       "      <td>0.000000</td>\n",
       "      <td>0.000000</td>\n",
       "      <td>0.000000</td>\n",
       "      <td>0.000000e+00</td>\n",
       "      <td>0.000000</td>\n",
       "      <td>1.000000</td>\n",
       "      <td>0.000000</td>\n",
       "      <td>0.000000</td>\n",
       "      <td>0.000000</td>\n",
       "      <td>0.000000</td>\n",
       "      <td>0.000000</td>\n",
       "      <td>0.000000</td>\n",
       "      <td>0.000000</td>\n",
       "      <td>0.000000</td>\n",
       "      <td>0.000000</td>\n",
       "      <td>0.000000</td>\n",
       "      <td>0.000000</td>\n",
       "      <td>0.000000</td>\n",
       "      <td>1.0</td>\n",
       "      <td>0.000000</td>\n",
       "      <td>1.0</td>\n",
       "      <td>0.000000</td>\n",
       "      <td>0.000000</td>\n",
       "      <td>0.000000</td>\n",
       "      <td>0.200000</td>\n",
       "      <td>0.000000</td>\n",
       "      <td>0.000000</td>\n",
       "      <td>0.000000</td>\n",
       "      <td>0.000000</td>\n",
       "      <td>0.028895</td>\n",
       "      <td>0.000000</td>\n",
       "      <td>0.000000</td>\n",
       "      <td>0.000000</td>\n",
       "    </tr>\n",
       "    <tr>\n",
       "      <th>25%</th>\n",
       "      <td>1.064872e+06</td>\n",
       "      <td>6700.000000</td>\n",
       "      <td>6625.000000</td>\n",
       "      <td>6271.000000</td>\n",
       "      <td>10.620000</td>\n",
       "      <td>215.985000</td>\n",
       "      <td>4.405250e+04</td>\n",
       "      <td>9.880000</td>\n",
       "      <td>0.000000</td>\n",
       "      <td>0.000000</td>\n",
       "      <td>17.000000</td>\n",
       "      <td>52.000000</td>\n",
       "      <td>7.000000</td>\n",
       "      <td>0.000000</td>\n",
       "      <td>5.474000e+03</td>\n",
       "      <td>34.800000</td>\n",
       "      <td>16.000000</td>\n",
       "      <td>0.000000</td>\n",
       "      <td>0.000000</td>\n",
       "      <td>5669.805000</td>\n",
       "      <td>5454.050000</td>\n",
       "      <td>4500.000000</td>\n",
       "      <td>550.555000</td>\n",
       "      <td>0.000000</td>\n",
       "      <td>0.000000</td>\n",
       "      <td>0.000000</td>\n",
       "      <td>440.180000</td>\n",
       "      <td>0.000000</td>\n",
       "      <td>25.000000</td>\n",
       "      <td>1.0</td>\n",
       "      <td>0.000000</td>\n",
       "      <td>1.0</td>\n",
       "      <td>0.000000</td>\n",
       "      <td>3.000000</td>\n",
       "      <td>3.000000</td>\n",
       "      <td>0.400000</td>\n",
       "      <td>1.000000</td>\n",
       "      <td>1.000000</td>\n",
       "      <td>1.000000</td>\n",
       "      <td>0.000000</td>\n",
       "      <td>4.362575</td>\n",
       "      <td>0.000000</td>\n",
       "      <td>1.000000</td>\n",
       "      <td>1.000000</td>\n",
       "    </tr>\n",
       "    <tr>\n",
       "      <th>50%</th>\n",
       "      <td>1.879659e+06</td>\n",
       "      <td>11000.000000</td>\n",
       "      <td>10950.000000</td>\n",
       "      <td>10500.000000</td>\n",
       "      <td>13.480000</td>\n",
       "      <td>348.180000</td>\n",
       "      <td>6.000000e+04</td>\n",
       "      <td>15.260000</td>\n",
       "      <td>0.000000</td>\n",
       "      <td>1.000000</td>\n",
       "      <td>33.000000</td>\n",
       "      <td>86.000000</td>\n",
       "      <td>10.000000</td>\n",
       "      <td>0.000000</td>\n",
       "      <td>1.058600e+04</td>\n",
       "      <td>55.700000</td>\n",
       "      <td>23.000000</td>\n",
       "      <td>0.000000</td>\n",
       "      <td>0.000000</td>\n",
       "      <td>10575.400000</td>\n",
       "      <td>10352.500000</td>\n",
       "      <td>9100.000000</td>\n",
       "      <td>1136.920000</td>\n",
       "      <td>0.000000</td>\n",
       "      <td>0.000000</td>\n",
       "      <td>0.000000</td>\n",
       "      <td>3609.580000</td>\n",
       "      <td>0.000000</td>\n",
       "      <td>41.000000</td>\n",
       "      <td>1.0</td>\n",
       "      <td>0.000000</td>\n",
       "      <td>1.0</td>\n",
       "      <td>0.000000</td>\n",
       "      <td>6.000000</td>\n",
       "      <td>4.000000</td>\n",
       "      <td>0.600000</td>\n",
       "      <td>1.000000</td>\n",
       "      <td>1.000000</td>\n",
       "      <td>1.000000</td>\n",
       "      <td>0.000000</td>\n",
       "      <td>6.965760</td>\n",
       "      <td>1.000000</td>\n",
       "      <td>1.000000</td>\n",
       "      <td>1.000000</td>\n",
       "    </tr>\n",
       "    <tr>\n",
       "      <th>75%</th>\n",
       "      <td>8.117948e+06</td>\n",
       "      <td>17600.000000</td>\n",
       "      <td>17425.000000</td>\n",
       "      <td>17000.000000</td>\n",
       "      <td>16.290000</td>\n",
       "      <td>521.930000</td>\n",
       "      <td>8.500000e+04</td>\n",
       "      <td>20.850000</td>\n",
       "      <td>0.000000</td>\n",
       "      <td>2.000000</td>\n",
       "      <td>51.000000</td>\n",
       "      <td>103.000000</td>\n",
       "      <td>13.000000</td>\n",
       "      <td>0.000000</td>\n",
       "      <td>1.855200e+04</td>\n",
       "      <td>74.300000</td>\n",
       "      <td>31.000000</td>\n",
       "      <td>0.000000</td>\n",
       "      <td>0.000000</td>\n",
       "      <td>17177.650000</td>\n",
       "      <td>16914.050000</td>\n",
       "      <td>15000.000000</td>\n",
       "      <td>2167.950000</td>\n",
       "      <td>0.000000</td>\n",
       "      <td>0.000000</td>\n",
       "      <td>0.000000</td>\n",
       "      <td>9554.700000</td>\n",
       "      <td>0.000000</td>\n",
       "      <td>60.000000</td>\n",
       "      <td>1.0</td>\n",
       "      <td>0.000000</td>\n",
       "      <td>1.0</td>\n",
       "      <td>0.000000</td>\n",
       "      <td>11.000000</td>\n",
       "      <td>5.000000</td>\n",
       "      <td>0.800000</td>\n",
       "      <td>1.000000</td>\n",
       "      <td>1.000000</td>\n",
       "      <td>1.000000</td>\n",
       "      <td>0.000000</td>\n",
       "      <td>10.215850</td>\n",
       "      <td>1.000000</td>\n",
       "      <td>1.000000</td>\n",
       "      <td>1.000000</td>\n",
       "    </tr>\n",
       "    <tr>\n",
       "      <th>max</th>\n",
       "      <td>4.060424e+07</td>\n",
       "      <td>35000.000000</td>\n",
       "      <td>35000.000000</td>\n",
       "      <td>35000.000000</td>\n",
       "      <td>26.060000</td>\n",
       "      <td>1408.130000</td>\n",
       "      <td>7.141778e+06</td>\n",
       "      <td>39.880000</td>\n",
       "      <td>29.000000</td>\n",
       "      <td>33.000000</td>\n",
       "      <td>152.000000</td>\n",
       "      <td>129.000000</td>\n",
       "      <td>76.000000</td>\n",
       "      <td>11.000000</td>\n",
       "      <td>1.743266e+06</td>\n",
       "      <td>150.700000</td>\n",
       "      <td>118.000000</td>\n",
       "      <td>34310.200000</td>\n",
       "      <td>34310.200000</td>\n",
       "      <td>55758.200000</td>\n",
       "      <td>53913.900000</td>\n",
       "      <td>35000.000000</td>\n",
       "      <td>20758.200000</td>\n",
       "      <td>208.820000</td>\n",
       "      <td>29282.100000</td>\n",
       "      <td>7002.190000</td>\n",
       "      <td>36234.400000</td>\n",
       "      <td>5.000000</td>\n",
       "      <td>152.000000</td>\n",
       "      <td>1.0</td>\n",
       "      <td>1.000000</td>\n",
       "      <td>1.0</td>\n",
       "      <td>1.000000</td>\n",
       "      <td>11.000000</td>\n",
       "      <td>6.000000</td>\n",
       "      <td>1.000000</td>\n",
       "      <td>1.000000</td>\n",
       "      <td>1.000000</td>\n",
       "      <td>1.000000</td>\n",
       "      <td>1.000000</td>\n",
       "      <td>54.171000</td>\n",
       "      <td>1.000000</td>\n",
       "      <td>1.000000</td>\n",
       "      <td>1.000000</td>\n",
       "    </tr>\n",
       "  </tbody>\n",
       "</table>\n",
       "</div>"
      ],
      "text/plain": [
       "          member_id      loan_amnt    funded_amnt  funded_amnt_inv  \\\n",
       "count  1.226070e+05  122607.000000  122607.000000    122607.000000   \n",
       "mean   5.493222e+06   12809.733743   12736.123753     12497.828395   \n",
       "std    6.604693e+06    7932.313398    7887.167118      7946.731527   \n",
       "min    7.047300e+04     500.000000     500.000000         0.000000   \n",
       "25%    1.064872e+06    6700.000000    6625.000000      6271.000000   \n",
       "50%    1.879659e+06   11000.000000   10950.000000     10500.000000   \n",
       "75%    8.117948e+06   17600.000000   17425.000000     17000.000000   \n",
       "max    4.060424e+07   35000.000000   35000.000000     35000.000000   \n",
       "\n",
       "            int_rate    installment    annual_inc            dti  \\\n",
       "count  122607.000000  122607.000000  1.226030e+05  122607.000000   \n",
       "mean       13.639487     396.623285  7.138502e+04      15.496888   \n",
       "std         4.390836     239.475936  5.841483e+04       7.497442   \n",
       "min         5.420000      15.670000  1.896000e+03       0.000000   \n",
       "25%        10.620000     215.985000  4.405250e+04       9.880000   \n",
       "50%        13.480000     348.180000  6.000000e+04      15.260000   \n",
       "75%        16.290000     521.930000  8.500000e+04      20.850000   \n",
       "max        26.060000    1408.130000  7.141778e+06      39.880000   \n",
       "\n",
       "         delinq_2yrs  inq_last_6mths  mths_since_last_delinq  \\\n",
       "count  122578.000000   122578.000000            50500.000000   \n",
       "mean        0.211996        0.980861               35.258198   \n",
       "std         0.662052        1.263588               21.950074   \n",
       "min         0.000000        0.000000                0.000000   \n",
       "25%         0.000000        0.000000               17.000000   \n",
       "50%         0.000000        1.000000               33.000000   \n",
       "75%         0.000000        2.000000               51.000000   \n",
       "max        29.000000       33.000000              152.000000   \n",
       "\n",
       "       mths_since_last_record       open_acc        pub_rec     revol_bal  \\\n",
       "count            12531.000000  122578.000000  122578.000000  1.226070e+05   \n",
       "mean                73.964488      10.457749       0.103477  1.483507e+04   \n",
       "std                 35.855540       4.713957       0.359382  1.937773e+04   \n",
       "min                  0.000000       0.000000       0.000000  0.000000e+00   \n",
       "25%                 52.000000       7.000000       0.000000  5.474000e+03   \n",
       "50%                 86.000000      10.000000       0.000000  1.058600e+04   \n",
       "75%                103.000000      13.000000       0.000000  1.855200e+04   \n",
       "max                129.000000      76.000000      11.000000  1.743266e+06   \n",
       "\n",
       "          revol_util      total_acc      out_prncp  out_prncp_inv  \\\n",
       "count  122607.000000  122578.000000  122607.000000  122607.000000   \n",
       "mean       53.716307      24.248169      22.028899      22.015354   \n",
       "std        25.723881      11.629814     611.510973     611.116057   \n",
       "min         0.000000       1.000000       0.000000       0.000000   \n",
       "25%        34.800000      16.000000       0.000000       0.000000   \n",
       "50%        55.700000      23.000000       0.000000       0.000000   \n",
       "75%        74.300000      31.000000       0.000000       0.000000   \n",
       "max       150.700000     118.000000   34310.200000   34310.200000   \n",
       "\n",
       "         total_pymnt  total_pymnt_inv  total_rec_prncp  total_rec_int  \\\n",
       "count  122607.000000    122607.000000    122607.000000  122607.000000   \n",
       "mean    12510.211529     12269.338465     10707.864970    1696.232305   \n",
       "std      9046.331429      9061.593794      8041.776401    1793.448627   \n",
       "min         0.000000         0.000000         0.000000       0.000000   \n",
       "25%      5669.805000      5454.050000      4500.000000     550.555000   \n",
       "50%     10575.400000     10352.500000      9100.000000    1136.920000   \n",
       "75%     17177.650000     16914.050000     15000.000000    2167.950000   \n",
       "max     55758.200000     53913.900000     35000.000000   20758.200000   \n",
       "\n",
       "       total_rec_late_fee     recoveries  collection_recovery_fee  \\\n",
       "count       122607.000000  122607.000000            122607.000000   \n",
       "mean             0.742344     105.371929                 4.957537   \n",
       "std              5.363268     575.651981                94.427007   \n",
       "min              0.000000       0.000000                 0.000000   \n",
       "25%              0.000000       0.000000                 0.000000   \n",
       "50%              0.000000       0.000000                 0.000000   \n",
       "75%              0.000000       0.000000                 0.000000   \n",
       "max            208.820000   29282.100000              7002.190000   \n",
       "\n",
       "       last_pymnt_amnt  collections_12_mths_ex_med  \\\n",
       "count    122607.000000               122462.000000   \n",
       "mean       6156.808616                    0.003495   \n",
       "std        7155.007894                    0.063674   \n",
       "min           0.000000                    0.000000   \n",
       "25%         440.180000                    0.000000   \n",
       "50%        3609.580000                    0.000000   \n",
       "75%        9554.700000                    0.000000   \n",
       "max       36234.400000                    5.000000   \n",
       "\n",
       "       mths_since_last_major_derog  policy_code  not_compliant  \\\n",
       "count                 15460.000000     122607.0  122607.000000   \n",
       "mean                     42.428913          1.0       0.021761   \n",
       "std                      21.457282          0.0       0.145901   \n",
       "min                       0.000000          1.0       0.000000   \n",
       "25%                      25.000000          1.0       0.000000   \n",
       "50%                      41.000000          1.0       0.000000   \n",
       "75%                      60.000000          1.0       0.000000   \n",
       "max                     152.000000          1.0       1.000000   \n",
       "\n",
       "       inactive_loans      bad_loans  emp_length_num      grade_num  \\\n",
       "count        122607.0  122607.000000   122607.000000  122607.000000   \n",
       "mean              1.0       0.188815        6.370256       4.232882   \n",
       "std               0.0       0.391363        3.736014       1.362138   \n",
       "min               1.0       0.000000        0.000000       0.000000   \n",
       "25%               1.0       0.000000        3.000000       3.000000   \n",
       "50%               1.0       0.000000        6.000000       4.000000   \n",
       "75%               1.0       0.000000       11.000000       5.000000   \n",
       "max               1.0       1.000000       11.000000       6.000000   \n",
       "\n",
       "       sub_grade_num  delinq_2yrs_zero   pub_rec_zero  \\\n",
       "count  122607.000000     122578.000000  122578.000000   \n",
       "mean        0.597509          0.858107       0.908173   \n",
       "std         0.278934          0.348942       0.288783   \n",
       "min         0.200000          0.000000       0.000000   \n",
       "25%         0.400000          1.000000       1.000000   \n",
       "50%         0.600000          1.000000       1.000000   \n",
       "75%         0.800000          1.000000       1.000000   \n",
       "max         1.000000          1.000000       1.000000   \n",
       "\n",
       "       collections_12_mths_zero      short_emp  payment_inc_ratio  \\\n",
       "count             122462.000000  122607.000000      122603.000000   \n",
       "mean                   0.996734       0.123672           7.564725   \n",
       "std                    0.057059       0.329208           4.127291   \n",
       "min                    0.000000       0.000000           0.028895   \n",
       "25%                    1.000000       0.000000           4.362575   \n",
       "50%                    1.000000       0.000000           6.965760   \n",
       "75%                    1.000000       0.000000          10.215850   \n",
       "max                    1.000000       1.000000          54.171000   \n",
       "\n",
       "       last_delinq_none  last_record_none  last_major_derog_none  \n",
       "count     122607.000000     122607.000000          122607.000000  \n",
       "mean           0.588115          0.897795               0.873906  \n",
       "std            0.492177          0.302918               0.331957  \n",
       "min            0.000000          0.000000               0.000000  \n",
       "25%            0.000000          1.000000               1.000000  \n",
       "50%            1.000000          1.000000               1.000000  \n",
       "75%            1.000000          1.000000               1.000000  \n",
       "max            1.000000          1.000000               1.000000  "
      ]
     },
     "execution_count": 6,
     "metadata": {},
     "output_type": "execute_result"
    }
   ],
   "source": [
    "loans.describe()"
   ]
  },
  {
   "cell_type": "code",
   "execution_count": 7,
   "id": "0bb3388f",
   "metadata": {
    "scrolled": true
   },
   "outputs": [
    {
     "name": "stdout",
     "output_type": "stream",
     "text": [
      "<class 'pandas.core.frame.DataFrame'>\n",
      "Int64Index: 122607 entries, 1077501 to 9604874\n",
      "Data columns (total 67 columns):\n",
      " #   Column                       Non-Null Count   Dtype  \n",
      "---  ------                       --------------   -----  \n",
      " 0   member_id                    122607 non-null  int64  \n",
      " 1   loan_amnt                    122607 non-null  int64  \n",
      " 2   funded_amnt                  122607 non-null  int64  \n",
      " 3   funded_amnt_inv              122607 non-null  int64  \n",
      " 4   term                         122607 non-null  object \n",
      " 5   int_rate                     122607 non-null  float64\n",
      " 6   installment                  122607 non-null  float64\n",
      " 7   grade                        122607 non-null  object \n",
      " 8   sub_grade                    122607 non-null  object \n",
      " 9   emp_title                    115767 non-null  object \n",
      " 10  emp_length                   118516 non-null  object \n",
      " 11  home_ownership               122607 non-null  object \n",
      " 12  annual_inc                   122603 non-null  float64\n",
      " 13  is_inc_v                     122607 non-null  object \n",
      " 14  issue_d                      122607 non-null  object \n",
      " 15  loan_status                  122607 non-null  object \n",
      " 16  pymnt_plan                   122607 non-null  object \n",
      " 17  url                          122607 non-null  object \n",
      " 18  desc                         60705 non-null   object \n",
      " 19  purpose                      122607 non-null  object \n",
      " 20  title                        122596 non-null  object \n",
      " 21  zip_code                     122607 non-null  object \n",
      " 22  addr_state                   122607 non-null  object \n",
      " 23  dti                          122607 non-null  float64\n",
      " 24  delinq_2yrs                  122578 non-null  float64\n",
      " 25  earliest_cr_line             122578 non-null  object \n",
      " 26  inq_last_6mths               122578 non-null  float64\n",
      " 27  mths_since_last_delinq       50500 non-null   float64\n",
      " 28  mths_since_last_record       12531 non-null   float64\n",
      " 29  open_acc                     122578 non-null  float64\n",
      " 30  pub_rec                      122578 non-null  float64\n",
      " 31  revol_bal                    122607 non-null  int64  \n",
      " 32  revol_util                   122607 non-null  float64\n",
      " 33  total_acc                    122578 non-null  float64\n",
      " 34  initial_list_status          122607 non-null  object \n",
      " 35  out_prncp                    122607 non-null  float64\n",
      " 36  out_prncp_inv                122607 non-null  float64\n",
      " 37  total_pymnt                  122607 non-null  float64\n",
      " 38  total_pymnt_inv              122607 non-null  float64\n",
      " 39  total_rec_prncp              122607 non-null  float64\n",
      " 40  total_rec_int                122607 non-null  float64\n",
      " 41  total_rec_late_fee           122607 non-null  float64\n",
      " 42  recoveries                   122607 non-null  float64\n",
      " 43  collection_recovery_fee      122607 non-null  float64\n",
      " 44  last_pymnt_d                 122271 non-null  object \n",
      " 45  last_pymnt_amnt              122607 non-null  float64\n",
      " 46  next_pymnt_d                 2907 non-null    object \n",
      " 47  last_credit_pull_d           122601 non-null  object \n",
      " 48  collections_12_mths_ex_med   122462 non-null  float64\n",
      " 49  mths_since_last_major_derog  15460 non-null   float64\n",
      " 50  policy_code                  122607 non-null  int64  \n",
      " 51  not_compliant                122607 non-null  int64  \n",
      " 52  status                       122607 non-null  object \n",
      " 53  inactive_loans               122607 non-null  int64  \n",
      " 54  bad_loans                    122607 non-null  int64  \n",
      " 55  emp_length_num               122607 non-null  int64  \n",
      " 56  grade_num                    122607 non-null  int64  \n",
      " 57  sub_grade_num                122607 non-null  float64\n",
      " 58  delinq_2yrs_zero             122578 non-null  float64\n",
      " 59  pub_rec_zero                 122578 non-null  float64\n",
      " 60  collections_12_mths_zero     122462 non-null  float64\n",
      " 61  short_emp                    122607 non-null  int64  \n",
      " 62  payment_inc_ratio            122603 non-null  float64\n",
      " 63  final_d                      122607 non-null  object \n",
      " 64  last_delinq_none             122607 non-null  int64  \n",
      " 65  last_record_none             122607 non-null  int64  \n",
      " 66  last_major_derog_none        122607 non-null  int64  \n",
      "dtypes: float64(29), int64(15), object(23)\n",
      "memory usage: 63.6+ MB\n"
     ]
    }
   ],
   "source": [
    "loans.info()"
   ]
  },
  {
   "cell_type": "markdown",
   "id": "8bfd8301",
   "metadata": {},
   "source": [
    "### - Exploring features"
   ]
  },
  {
   "cell_type": "code",
   "execution_count": 8,
   "id": "9d997d07",
   "metadata": {},
   "outputs": [
    {
     "data": {
      "text/plain": [
       "Index(['member_id', 'loan_amnt', 'funded_amnt', 'funded_amnt_inv', 'term',\n",
       "       'int_rate', 'installment', 'grade', 'sub_grade', 'emp_title',\n",
       "       'emp_length', 'home_ownership', 'annual_inc', 'is_inc_v', 'issue_d',\n",
       "       'loan_status', 'pymnt_plan', 'url', 'desc', 'purpose', 'title',\n",
       "       'zip_code', 'addr_state', 'dti', 'delinq_2yrs', 'earliest_cr_line',\n",
       "       'inq_last_6mths', 'mths_since_last_delinq', 'mths_since_last_record',\n",
       "       'open_acc', 'pub_rec', 'revol_bal', 'revol_util', 'total_acc',\n",
       "       'initial_list_status', 'out_prncp', 'out_prncp_inv', 'total_pymnt',\n",
       "       'total_pymnt_inv', 'total_rec_prncp', 'total_rec_int',\n",
       "       'total_rec_late_fee', 'recoveries', 'collection_recovery_fee',\n",
       "       'last_pymnt_d', 'last_pymnt_amnt', 'next_pymnt_d', 'last_credit_pull_d',\n",
       "       'collections_12_mths_ex_med', 'mths_since_last_major_derog',\n",
       "       'policy_code', 'not_compliant', 'status', 'inactive_loans', 'bad_loans',\n",
       "       'emp_length_num', 'grade_num', 'sub_grade_num', 'delinq_2yrs_zero',\n",
       "       'pub_rec_zero', 'collections_12_mths_zero', 'short_emp',\n",
       "       'payment_inc_ratio', 'final_d', 'last_delinq_none', 'last_record_none',\n",
       "       'last_major_derog_none'],\n",
       "      dtype='object')"
      ]
     },
     "execution_count": 8,
     "metadata": {},
     "output_type": "execute_result"
    }
   ],
   "source": [
    "#print out features' names\n",
    "loans.columns"
   ]
  },
  {
   "cell_type": "markdown",
   "id": "3e144641",
   "metadata": {},
   "source": [
    "### - Features for the classification algorithm"
   ]
  },
  {
   "cell_type": "code",
   "execution_count": 9,
   "id": "d6f172e7",
   "metadata": {},
   "outputs": [],
   "source": [
    "features = ['grade',   # grade of the loan\n",
    "'sub_grade',       # sub-grade of the loan\n",
    "'short_emp',    # one year or less of employment\n",
    "'emp_length_num',  # number of years of employment\n",
    "'home_ownership',   # home_ownership status: own, mortgage or rent\n",
    "'dti',     # debt to income ratio\n",
    "'purpose',    # the purpose of the loan\n",
    "'term',     # the term of the loan\n",
    "'last_delinq_none',    # has borrower had a delinquincy\n",
    "'last_major_derog_none',   # has borrower had 90 day or worse rating\n",
    "'revol_util',   # percent of available credit being used\n",
    "'total_rec_late_fee'    # total late fees received to day\n",
    "]"
   ]
  },
  {
   "cell_type": "code",
   "execution_count": 10,
   "id": "af59a901",
   "metadata": {},
   "outputs": [],
   "source": [
    "#skip observations with missing values in features\n",
    "loans.dropna(subset=['grade','sub_grade','short_emp','emp_length_num','home_ownership','dti','purpose','term',\\\n",
    "                     'last_delinq_none','last_major_derog_none','revol_util','total_rec_late_fee'],inplace = True)"
   ]
  },
  {
   "cell_type": "markdown",
   "id": "13bf0ece",
   "metadata": {},
   "source": [
    "### - Exploring the target column"
   ]
  },
  {
   "cell_type": "code",
   "execution_count": 11,
   "id": "f58e74d5",
   "metadata": {},
   "outputs": [],
   "source": [
    "target = loans['bad_loans']"
   ]
  },
  {
   "cell_type": "code",
   "execution_count": 12,
   "id": "ab0370d5",
   "metadata": {
    "scrolled": false
   },
   "outputs": [
    {
     "data": {
      "text/plain": [
       "id\n",
       "1077501    0\n",
       "1077430    1\n",
       "1077175    0\n",
       "1076863    0\n",
       "1075269    0\n",
       "          ..\n",
       "9856168    1\n",
       "9795013    0\n",
       "9695736    1\n",
       "9684700    1\n",
       "9604874    0\n",
       "Name: bad_loans, Length: 122607, dtype: int64"
      ]
     },
     "execution_count": 12,
     "metadata": {},
     "output_type": "execute_result"
    }
   ],
   "source": [
    "target"
   ]
  },
  {
   "cell_type": "code",
   "execution_count": 13,
   "id": "866e5017",
   "metadata": {},
   "outputs": [
    {
     "name": "stdout",
     "output_type": "stream",
     "text": [
      "The percentage of safe loans is: 0.81\n",
      "The percentage of risky loans is: 0.19\n"
     ]
    }
   ],
   "source": [
    "print(\"The percentage of safe loans is: {:.2f}\".format(sum(target == 0) / len(target)))\n",
    "print(\"The percentage of risky loans is: {:.2f}\".format(sum(target == 1) / len(target)))"
   ]
  },
  {
   "cell_type": "markdown",
   "id": "b1c72d32",
   "metadata": {},
   "source": [
    "### - Sample data to balance classes"
   ]
  },
  {
   "cell_type": "code",
   "execution_count": 14,
   "id": "f362c243",
   "metadata": {},
   "outputs": [],
   "source": [
    "#create two new datasets\n",
    "safe_loans_raw = loans[loans['bad_loans'] ==0]\n",
    "risky_loans_raw = loans[loans['bad_loans'] ==1]"
   ]
  },
  {
   "cell_type": "code",
   "execution_count": 15,
   "id": "c57a7b67",
   "metadata": {},
   "outputs": [],
   "source": [
    "# Since there are fewer risky loans than safe loans, find the ratio of the sizes\n",
    "# and use that percentage to undersample the safe loans.\n",
    "percentage = len(risky_loans_raw)/float(len(safe_loans_raw))\n",
    "risky_loans = risky_loans_raw\n",
    "safe_loans = safe_loans_raw.sample(frac=percentage,random_state=1)\n",
    "\n",
    "# Append the risky_loans with the downsampled version of safe_loans\n",
    "loans_data = risky_loans.append(safe_loans)"
   ]
  },
  {
   "cell_type": "code",
   "execution_count": 16,
   "id": "143e575d",
   "metadata": {},
   "outputs": [
    {
     "name": "stdout",
     "output_type": "stream",
     "text": [
      "The percentage of safe loans is: 0.50\n",
      "The percentage of risky loans is: 0.50\n"
     ]
    }
   ],
   "source": [
    "#verify the percentage of safe loans and risky loans.\n",
    "print(\"The percentage of safe loans is: {:.2f}\".format(len(safe_loans) / len(loans_data)))\n",
    "print(\"The percentage of risky loans is: {:.2f}\".format(len(risky_loans) / len(loans_data)))"
   ]
  },
  {
   "cell_type": "markdown",
   "id": "a5bd1ef2",
   "metadata": {},
   "source": [
    "### - Split data into training and validation and test sets"
   ]
  },
  {
   "cell_type": "code",
   "execution_count": 17,
   "id": "22be7788",
   "metadata": {},
   "outputs": [],
   "source": [
    "#categorical columns\n",
    "col_cat = ['grade','sub_grade','home_ownership','purpose','term']\n",
    "\n",
    "#numerical columns\n",
    "col_num =['short_emp','emp_length_num','dti','last_delinq_none','last_major_derog_none',\\\n",
    "          'revol_util','total_rec_late_fee']\n",
    "\n",
    "#features columns:\n",
    "X = loans_data[['grade','sub_grade','short_emp','emp_length_num','home_ownership','dti','purpose',\\\n",
    "                'term','last_delinq_none','last_major_derog_none','revol_util','total_rec_late_fee']]\n",
    "\n",
    "#target column\n",
    "y=loans_data['bad_loans']"
   ]
  },
  {
   "cell_type": "code",
   "execution_count": 18,
   "id": "e769dfb0",
   "metadata": {},
   "outputs": [],
   "source": [
    "#split the data into trainval and test\n",
    "X_trainval, X_test, y_trainval, y_test = train_test_split(X, y, test_size=0.1,random_state=0)\n",
    "\n",
    "#split the data into trainval and test\n",
    "X_train, X_val, y_train, y_val = train_test_split(X_trainval, y_trainval, test_size=0.2,random_state=0)"
   ]
  },
  {
   "cell_type": "markdown",
   "id": "fbcb94ab",
   "metadata": {},
   "source": [
    "### - Build a MLP classifier - based on accuracy"
   ]
  },
  {
   "cell_type": "code",
   "execution_count": 19,
   "id": "55362090",
   "metadata": {},
   "outputs": [],
   "source": [
    "#build pipeline preprocessor\n",
    "pipe_cat = OneHotEncoder(handle_unknown='ignore')\n",
    "pipe_num = StandardScaler()\n",
    "preprocessor = make_column_transformer((pipe_cat, col_cat), (pipe_num, col_num)) \n",
    "\n",
    "#build the pipeline for preprocessor and MLP\n",
    "pipe = make_pipeline(preprocessor, MLPClassifier(solver=\"lbfgs\", random_state=1))\n",
    "param_grid = {'mlpclassifier__hidden_layer_sizes':\n",
    "              [(10,), (50,), (100,), (10, 10), (50, 50)]\n",
    "             }\n",
    "model1 = GridSearchCV(pipe, param_grid,return_train_score=True, cv=5, n_jobs=-1)"
   ]
  },
  {
   "cell_type": "code",
   "execution_count": 20,
   "id": "67f149ef",
   "metadata": {
    "scrolled": true
   },
   "outputs": [
    {
     "name": "stderr",
     "output_type": "stream",
     "text": [
      "/Users/pengshuang/opt/anaconda3/lib/python3.8/site-packages/sklearn/neural_network/_multilayer_perceptron.py:500: ConvergenceWarning: lbfgs failed to converge (status=1):\n",
      "STOP: TOTAL NO. of ITERATIONS REACHED LIMIT.\n",
      "\n",
      "Increase the number of iterations (max_iter) or scale the data as shown in:\n",
      "    https://scikit-learn.org/stable/modules/preprocessing.html\n",
      "  self.n_iter_ = _check_optimize_result(\"lbfgs\", opt_res, self.max_iter)\n"
     ]
    },
    {
     "data": {
      "text/plain": [
       "GridSearchCV(cv=5,\n",
       "             estimator=Pipeline(steps=[('columntransformer',\n",
       "                                        ColumnTransformer(transformers=[('onehotencoder',\n",
       "                                                                         OneHotEncoder(handle_unknown='ignore'),\n",
       "                                                                         ['grade',\n",
       "                                                                          'sub_grade',\n",
       "                                                                          'home_ownership',\n",
       "                                                                          'purpose',\n",
       "                                                                          'term']),\n",
       "                                                                        ('standardscaler',\n",
       "                                                                         StandardScaler(),\n",
       "                                                                         ['short_emp',\n",
       "                                                                          'emp_length_num',\n",
       "                                                                          'dti',\n",
       "                                                                          'last_delinq_none',\n",
       "                                                                          'last_major_derog_none',\n",
       "                                                                          'revol_util',\n",
       "                                                                          'total_rec_late_fee'])])),\n",
       "                                       ('mlpclassifier',\n",
       "                                        MLPClassifier(random_state=1,\n",
       "                                                      solver='lbfgs'))]),\n",
       "             n_jobs=-1,\n",
       "             param_grid={'mlpclassifier__hidden_layer_sizes': [(10,), (50,),\n",
       "                                                               (100,), (10, 10),\n",
       "                                                               (50, 50)]},\n",
       "             return_train_score=True)"
      ]
     },
     "execution_count": 20,
     "metadata": {},
     "output_type": "execute_result"
    }
   ],
   "source": [
    "model1.fit(X_trainval, y_trainval)"
   ]
  },
  {
   "cell_type": "code",
   "execution_count": 21,
   "id": "9b3b0fda",
   "metadata": {
    "scrolled": true
   },
   "outputs": [
    {
     "name": "stdout",
     "output_type": "stream",
     "text": [
      "Accuracy of model1: 0.63\n",
      "Precision of model1: 0.62\n",
      "Recall of model1: 0.62\n",
      "F1 of model1: 0.62\n",
      "Balanced accuracy score of model1: 0.63\n",
      "Roc auc score of model1: 0.63\n"
     ]
    }
   ],
   "source": [
    "#report the performance\n",
    "from sklearn.metrics import accuracy_score,precision_score,recall_score,f1_score,balanced_accuracy_score,roc_auc_score\n",
    "\n",
    "#get the predicted values for test set\n",
    "model1_predicted = model1.predict(X_test)\n",
    "\n",
    "print('Accuracy of model1: {:.2f}'.format(accuracy_score(y_test, model1_predicted)))\n",
    "print('Precision of model1: {:.2f}'.format(precision_score(y_test, model1_predicted)))\n",
    "print('Recall of model1: {:.2f}'.format(recall_score(y_test, model1_predicted)))\n",
    "print('F1 of model1: {:.2f}'.format(f1_score(y_test, model1_predicted)))\n",
    "print('Balanced accuracy score of model1: {:.2f}'.format(balanced_accuracy_score(y_test, model1_predicted)))\n",
    "print('Roc auc score of model1: {:.2f}'.format(roc_auc_score(y_test, model1_predicted)))"
   ]
  },
  {
   "cell_type": "code",
   "execution_count": 22,
   "id": "51325217",
   "metadata": {},
   "outputs": [
    {
     "data": {
      "text/plain": [
       "<matplotlib.legend.Legend at 0x7fb12d143940>"
      ]
     },
     "execution_count": 22,
     "metadata": {},
     "output_type": "execute_result"
    },
    {
     "data": {
      "image/png": "[encoded data removed]",
      "text/plain": [
       "<Figure size 432x288 with 1 Axes>"
      ]
     },
     "metadata": {
      "needs_background": "light"
     },
     "output_type": "display_data"
    }
   ],
   "source": [
    "from sklearn.metrics import precision_recall_curve\n",
    "from sklearn.metrics import plot_precision_recall_curve, precision_recall_fscore_support\n",
    "\n",
    "pr_mlp = plot_precision_recall_curve(model1, X_test, y_test, name='MLP')\n",
    "# also compute the precision/recall trade-off from predict\n",
    "p_mlp, r_mlp, _, _ = precision_recall_fscore_support(y_test, model1.predict(X_test), average='binary') \n",
    "#plot the dot on the graph\n",
    "\n",
    "plt.plot(p_mlp, r_mlp, 'o', markersize=10, label=\"threshold zero\", fillstyle=\"none\", c='k', mew=2)\n",
    "plt.legend()"
   ]
  },
  {
   "cell_type": "code",
   "execution_count": 23,
   "id": "7b25bfc4",
   "metadata": {},
   "outputs": [
    {
     "data": {
      "text/plain": [
       "<matplotlib.legend.Legend at 0x7fb1304aec40>"
      ]
     },
     "execution_count": 23,
     "metadata": {},
     "output_type": "execute_result"
    },
    {
     "data": {
      "image/png": "[encoded data removed]",
      "text/plain": [
       "<Figure size 432x288 with 1 Axes>"
      ]
     },
     "metadata": {
      "needs_background": "light"
     },
     "output_type": "display_data"
    }
   ],
   "source": [
    "from sklearn.metrics import plot_roc_curve\n",
    "\n",
    "#plot ROC curve\n",
    "confusion_mlp = confusion_matrix(y_test, model1.predict(X_test), normalize='true')\n",
    "\n",
    "plot_roc_curve(model1, X_test, y_test, name='MLP')\n",
    "\n",
    "plt.plot(confusion_mlp[0, 1], confusion_mlp[1, 1], 'o', markersize=10,\n",
    "         label=\"threshold zero SVM\", fillstyle=\"none\", c='k', mew=2)\n",
    "\n",
    "plt.legend(loc=4)"
   ]
  },
  {
   "cell_type": "markdown",
   "id": "f0fe2527",
   "metadata": {},
   "source": [
    "### - Build a MLP classifier - based on ROC-AUC"
   ]
  },
  {
   "cell_type": "code",
   "execution_count": 24,
   "id": "08b059eb",
   "metadata": {},
   "outputs": [],
   "source": [
    "#build pipeline preprocessor\n",
    "pipe_cat = OneHotEncoder(handle_unknown='ignore')\n",
    "pipe_num = StandardScaler()\n",
    "preprocessor = make_column_transformer((pipe_cat, col_cat), (pipe_num, col_num)) \n",
    "\n",
    "#build the pipeline for preprocessor and MLP\n",
    "pipe = make_pipeline(preprocessor, MLPClassifier(solver=\"lbfgs\", random_state=1))\n",
    "param_grid = {'mlpclassifier__hidden_layer_sizes':\n",
    "              [(10,), (50,), (100,), (10, 10), (50, 50)]\n",
    "             }\n",
    "model2 = GridSearchCV(pipe, param_grid,return_train_score=True, cv=5, scoring = 'roc_auc', n_jobs=-1)"
   ]
  },
  {
   "cell_type": "code",
   "execution_count": 25,
   "id": "5bf9695d",
   "metadata": {},
   "outputs": [
    {
     "name": "stderr",
     "output_type": "stream",
     "text": [
      "/Users/pengshuang/opt/anaconda3/lib/python3.8/site-packages/sklearn/neural_network/_multilayer_perceptron.py:500: ConvergenceWarning: lbfgs failed to converge (status=1):\n",
      "STOP: TOTAL NO. of ITERATIONS REACHED LIMIT.\n",
      "\n",
      "Increase the number of iterations (max_iter) or scale the data as shown in:\n",
      "    https://scikit-learn.org/stable/modules/preprocessing.html\n",
      "  self.n_iter_ = _check_optimize_result(\"lbfgs\", opt_res, self.max_iter)\n"
     ]
    },
    {
     "data": {
      "text/plain": [
       "GridSearchCV(cv=5,\n",
       "             estimator=Pipeline(steps=[('columntransformer',\n",
       "                                        ColumnTransformer(transformers=[('onehotencoder',\n",
       "                                                                         OneHotEncoder(handle_unknown='ignore'),\n",
       "                                                                         ['grade',\n",
       "                                                                          'sub_grade',\n",
       "                                                                          'home_ownership',\n",
       "                                                                          'purpose',\n",
       "                                                                          'term']),\n",
       "                                                                        ('standardscaler',\n",
       "                                                                         StandardScaler(),\n",
       "                                                                         ['short_emp',\n",
       "                                                                          'emp_length_num',\n",
       "                                                                          'dti',\n",
       "                                                                          'last_delinq_none',\n",
       "                                                                          'last_major_derog_none',\n",
       "                                                                          'revol_util',\n",
       "                                                                          'total_rec_late_fee'])])),\n",
       "                                       ('mlpclassifier',\n",
       "                                        MLPClassifier(random_state=1,\n",
       "                                                      solver='lbfgs'))]),\n",
       "             n_jobs=-1,\n",
       "             param_grid={'mlpclassifier__hidden_layer_sizes': [(10,), (50,),\n",
       "                                                               (100,), (10, 10),\n",
       "                                                               (50, 50)]},\n",
       "             return_train_score=True, scoring='roc_auc')"
      ]
     },
     "execution_count": 25,
     "metadata": {},
     "output_type": "execute_result"
    }
   ],
   "source": [
    "model2.fit(X_trainval, y_trainval)"
   ]
  },
  {
   "cell_type": "code",
   "execution_count": 26,
   "id": "5dd85b0e",
   "metadata": {},
   "outputs": [
    {
     "name": "stdout",
     "output_type": "stream",
     "text": [
      "Accuracy of model2: 0.62\n",
      "Precision of model2: 0.62\n",
      "Recall of model2: 0.63\n",
      "F1 of model2: 0.62\n",
      "Balanced accuracy score of model2: 0.62\n",
      "Roc auc score of model2: 0.62\n"
     ]
    }
   ],
   "source": [
    "#get the predicted values for test set\n",
    "model2_predicted = model2.predict(X_test)\n",
    "\n",
    "print('Accuracy of model2: {:.2f}'.format(accuracy_score(y_test, model2_predicted)))\n",
    "print('Precision of model2: {:.2f}'.format(precision_score(y_test, model2_predicted)))\n",
    "print('Recall of model2: {:.2f}'.format(recall_score(y_test, model2_predicted)))\n",
    "print('F1 of model2: {:.2f}'.format(f1_score(y_test, model2_predicted)))\n",
    "print('Balanced accuracy score of model2: {:.2f}'.format(balanced_accuracy_score(y_test, model2_predicted)))\n",
    "print('Roc auc score of model2: {:.2f}'.format(roc_auc_score(y_test, model2_predicted)))"
   ]
  },
  {
   "cell_type": "code",
   "execution_count": 27,
   "id": "439b500e",
   "metadata": {},
   "outputs": [
    {
     "data": {
      "text/plain": [
       "<matplotlib.legend.Legend at 0x7fb140b7e850>"
      ]
     },
     "execution_count": 27,
     "metadata": {},
     "output_type": "execute_result"
    },
    {
     "data": {
      "image/png": "[encoded data removed]",
      "text/plain": [
       "<Figure size 432x288 with 1 Axes>"
      ]
     },
     "metadata": {
      "needs_background": "light"
     },
     "output_type": "display_data"
    }
   ],
   "source": [
    "pr_mlp = plot_precision_recall_curve(model2, X_test, y_test, name='MLP')\n",
    "# also compute the precision/recall trade-off from predict\n",
    "p_mlp, r_mlp, _, _ = precision_recall_fscore_support(y_test, model2.predict(X_test), average='binary') \n",
    "#plot the dot on the graph\n",
    "\n",
    "plt.plot(p_mlp, r_mlp, 'o', markersize=10, label=\"threshold zero\", fillstyle=\"none\", c='k', mew=2)\n",
    "plt.legend()"
   ]
  },
  {
   "cell_type": "code",
   "execution_count": 28,
   "id": "5958b494",
   "metadata": {},
   "outputs": [
    {
     "data": {
      "text/plain": [
       "<matplotlib.legend.Legend at 0x7fb13050eac0>"
      ]
     },
     "execution_count": 28,
     "metadata": {},
     "output_type": "execute_result"
    },
    {
     "data": {
      "image/png": "[encoded data removed]",
      "text/plain": [
       "<Figure size 432x288 with 1 Axes>"
      ]
     },
     "metadata": {
      "needs_background": "light"
     },
     "output_type": "display_data"
    }
   ],
   "source": [
    "#plot ROC curve\n",
    "confusion_mlp = confusion_matrix(y_test, model2.predict(X_test), normalize='true')\n",
    "\n",
    "plot_roc_curve(model2, X_test, y_test, name='MLP')\n",
    "\n",
    "plt.plot(confusion_mlp[0, 1], confusion_mlp[1, 1], 'o', markersize=10,\n",
    "         label=\"threshold zero SVM\", fillstyle=\"none\", c='k', mew=2)\n",
    "\n",
    "plt.legend(loc=4)"
   ]
  },
  {
   "cell_type": "markdown",
   "id": "ed9be5f8",
   "metadata": {},
   "source": [
    "The performances are the same when choosing the best model using GridSearchCV comparison based on Accuracy and ROC-AUC."
   ]
  },
  {
   "cell_type": "markdown",
   "id": "5c80273e",
   "metadata": {},
   "source": [
    "### - Quantifying the cost of mistakes"
   ]
  },
  {
   "cell_type": "markdown",
   "id": "f53a9446",
   "metadata": {},
   "source": [
    "#### Model 1"
   ]
  },
  {
   "cell_type": "code",
   "execution_count": 29,
   "id": "563b7c02",
   "metadata": {},
   "outputs": [
    {
     "data": {
      "text/plain": [
       "<sklearn.metrics._plot.confusion_matrix.ConfusionMatrixDisplay at 0x7fb1304ed910>"
      ]
     },
     "execution_count": 29,
     "metadata": {},
     "output_type": "execute_result"
    },
    {
     "data": {
      "image/png": "[encoded data removed]",
      "text/plain": [
       "<Figure size 144x144 with 2 Axes>"
      ]
     },
     "metadata": {
      "needs_background": "light"
     },
     "output_type": "display_data"
    }
   ],
   "source": [
    "from sklearn.metrics import confusion_matrix, plot_confusion_matrix\n",
    "\n",
    "confusion = confusion_matrix(y_test, model1_predicted)\n",
    "fig, ax = plt.subplots(figsize=(2, 2))\n",
    "plot_confusion_matrix(model1, X_test, y_test, cmap='gray_r', ax=ax)"
   ]
  },
  {
   "cell_type": "code",
   "execution_count": 30,
   "id": "f928a3f2",
   "metadata": {},
   "outputs": [
    {
     "data": {
      "text/plain": [
       "878"
      ]
     },
     "execution_count": 30,
     "metadata": {},
     "output_type": "execute_result"
    }
   ],
   "source": [
    "FP = confusion[1,0]\n",
    "FP "
   ]
  },
  {
   "cell_type": "code",
   "execution_count": 31,
   "id": "b8c5df38",
   "metadata": {},
   "outputs": [
    {
     "data": {
      "text/plain": [
       "851"
      ]
     },
     "execution_count": 31,
     "metadata": {},
     "output_type": "execute_result"
    }
   ],
   "source": [
    "FN = confusion[0,1]\n",
    "FN "
   ]
  },
  {
   "cell_type": "code",
   "execution_count": 32,
   "id": "99a7441e",
   "metadata": {},
   "outputs": [
    {
     "data": {
      "text/plain": [
       "26070000"
      ]
     },
     "execution_count": 32,
     "metadata": {},
     "output_type": "execute_result"
    }
   ],
   "source": [
    "total_cost_model1 = FN *10000 + FP*20000\n",
    "total_cost_model1"
   ]
  },
  {
   "cell_type": "markdown",
   "id": "bb8bc3f3",
   "metadata": {},
   "source": [
    "#### Model 2"
   ]
  },
  {
   "cell_type": "code",
   "execution_count": 33,
   "id": "cab914b1",
   "metadata": {},
   "outputs": [
    {
     "data": {
      "text/plain": [
       "<sklearn.metrics._plot.confusion_matrix.ConfusionMatrixDisplay at 0x7fb130564d00>"
      ]
     },
     "execution_count": 33,
     "metadata": {},
     "output_type": "execute_result"
    },
    {
     "data": {
      "image/png": "[encoded data removed]",
      "text/plain": [
       "<Figure size 144x144 with 2 Axes>"
      ]
     },
     "metadata": {
      "needs_background": "light"
     },
     "output_type": "display_data"
    }
   ],
   "source": [
    "from sklearn.metrics import confusion_matrix, plot_confusion_matrix\n",
    "\n",
    "confusion = confusion_matrix(y_test, model2_predicted)\n",
    "fig, ax = plt.subplots(figsize=(2, 2))\n",
    "plot_confusion_matrix(model2, X_test, y_test, cmap='gray_r', ax=ax)"
   ]
  },
  {
   "cell_type": "code",
   "execution_count": 34,
   "id": "88310306",
   "metadata": {},
   "outputs": [
    {
     "data": {
      "text/plain": [
       "854"
      ]
     },
     "execution_count": 34,
     "metadata": {},
     "output_type": "execute_result"
    }
   ],
   "source": [
    "FP2 = confusion[1,0]\n",
    "FP2 "
   ]
  },
  {
   "cell_type": "code",
   "execution_count": 35,
   "id": "a326898d",
   "metadata": {},
   "outputs": [
    {
     "data": {
      "text/plain": [
       "886"
      ]
     },
     "execution_count": 35,
     "metadata": {},
     "output_type": "execute_result"
    }
   ],
   "source": [
    "FN2 = confusion[0,1]\n",
    "FN2 "
   ]
  },
  {
   "cell_type": "code",
   "execution_count": 36,
   "id": "7e67857b",
   "metadata": {},
   "outputs": [
    {
     "data": {
      "text/plain": [
       "26070000"
      ]
     },
     "execution_count": 36,
     "metadata": {},
     "output_type": "execute_result"
    }
   ],
   "source": [
    "total_cost_model2 = FN2 *10000 + FP2*20000\n",
    "total_cost_model2"
   ]
  }
 ],
 "metadata": {
  "kernelspec": {
   "display_name": "Python 3",
   "language": "python",
   "name": "python3"
  },
  "language_info": {
   "codemirror_mode": {
    "name": "ipython",
    "version": 3
   },
   "file_extension": ".py",
   "mimetype": "text/x-python",
   "name": "python",
   "nbconvert_exporter": "python",
   "pygments_lexer": "ipython3",
   "version": "3.8.8"
  }
 },
 "nbformat": 4,
 "nbformat_minor": 5
}
